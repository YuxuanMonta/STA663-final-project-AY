{
 "cells": [
  {
   "cell_type": "markdown",
   "metadata": {},
   "source": [
    "# Comparative analysis with competing algorithms\n",
    "\n",
    "In this comparative analysis part, we will compare SSVD (from version 3) with SVD and Sparse PCA algorithm. Note that SPCA here uses 2 as weight parameter. \n",
    "\n",
    "Rank 1 decomposition of this three methods will be compared. The true u and v are defined by the code in the next cell and normal distributed noises are incorporated to get test data.\n",
    "\n",
    "For accuracy, we will compare four indicators.\n",
    "\n",
    "a. Average number of zeros in u and v\n",
    "\n",
    "b. Average number of correctly identified 0s in u and v\n",
    "\n",
    "c. Average number of correctly identified non-0s in u and v\n",
    "\n",
    "d. Rate of correctly identified all the positions of 0s AND non-0s (Correct classification rate) in u and v"
   ]
  },
  {
   "cell_type": "code",
   "execution_count": 1,
   "metadata": {},
   "outputs": [],
   "source": [
    "import numpy as np \n",
    "import pandas as pd \n",
    "import matplotlib.pyplot as plt\n",
    "import scipy.linalg as la\n",
    "from functools import reduce\n",
    "import seaborn as sns\n",
    "import time\n",
    "from SSVDversion3 import SSVD_layer\n",
    "from sklearn.decomposition import SparsePCA"
   ]
  },
  {
   "cell_type": "code",
   "execution_count": 2,
   "metadata": {},
   "outputs": [
    {
     "output_type": "execute_result",
     "data": {
      "text/plain": [
       "(100, 50)"
      ]
     },
     "metadata": {},
     "execution_count": 2
    }
   ],
   "source": [
    "u_tilde = [list(range(10, 2, -1)), list(np.repeat(2, 17)), list(np.repeat(0, 75))]\n",
    "u_tilde = np.array(reduce(lambda x, y: x+y, u_tilde))\n",
    "v_tilde = [[10, -10, 8, -8, 5, -5], list(np.repeat(3, 5)), list(np.repeat(-3, 5)), list(np.repeat(0, 34))]\n",
    "v_tilde = np.array(reduce(lambda x, y: x+y, v_tilde))\n",
    "\n",
    "u_true = u_tilde / np.linalg.norm(u_tilde)  # (100,)\n",
    "v_true = v_tilde / np.linalg.norm(v_tilde)  # (50,)\n",
    "s = 50\n",
    "Xstar = s * np.outer(u_true, v_true)  # (100, 50)\n",
    "\n",
    "lam_grid = np.linspace(0, 8, 81)\n",
    "gamma1 = gamma2 = 2\n",
    "\n",
    "X = Xstar + np.random.normal(0, 0.5, Xstar.shape)  # (100, 50)\n",
    "num_layer = 2\n",
    "\n",
    "\n",
    "# SVD\n",
    "U, _, VT = la.svd(X)\n",
    "V = VT.T\n",
    "# prepare vector Y and Z, which are fixed after given X\n",
    "Y = X.T.reshape((-1,1))  # (nd, 1)\n",
    "Z = X.reshape((-1,1))  # (nd, 1)\n",
    "\n",
    "# initial value\n",
    "u_old = U[:,0][:,None]\n",
    "v_old = V[:,0][:,None]\n",
    "d = v_old.shape[0]\n",
    "n = u_old.shape[0]\n",
    "\n",
    "X.shape"
   ]
  },
  {
   "cell_type": "code",
   "execution_count": 3,
   "metadata": {},
   "outputs": [],
   "source": [
    "def evaluate(vec_result, vec_true):\n",
    "    vec_result_0index = np.where(vec_result==0)[0]  # the index of the 0s in vec_result\n",
    "    vec_true_0index = np.where(vec_true==0)[0]  # the index of the 0s in vec_true\n",
    "    vec_result_non0index = np.where(vec_result!=0)[0]  # the index of the non0s in vec_result\n",
    "    vec_true_non0index = np.where(vec_true!=0)[0]  # the index of the non0s in vec_true\n",
    "\n",
    "    # number of 0s in vec_result\n",
    "    num_zero = len(vec_result_0index)  \n",
    "    # whether each of 0s identified is correct\n",
    "    vec_result_0index_correct = [index in vec_true_0index for index in vec_result_0index]\n",
    "    num_zero_correct = np.sum(vec_result_0index_correct)\n",
    "    # whether each of non0s identified is correct\n",
    "    vec_result_non0index_correct = [index in vec_true_non0index for index in vec_result_non0index]\n",
    "    num_nonzero_correct = np.sum(vec_result_non0index_correct)\n",
    "    # whether correct identify all the positions of 0s (and also all non0s), \n",
    "    # i.e., correct classification rate\n",
    "    # =False if the number of 0s wrong or the positions of 0s wrong\n",
    "    correct_all = np.allclose(vec_result_0index, vec_true_0index)\\\n",
    "        if len(vec_result_0index) == len(vec_true_0index) else False \n",
    "        \n",
    "    return [num_zero, num_zero_correct, num_nonzero_correct, correct_all]"
   ]
  },
  {
   "cell_type": "code",
   "execution_count": 4,
   "metadata": {},
   "outputs": [],
   "source": [
    "time_ssvd = 0\n",
    "time_svd = 0\n",
    "time_spca = 0"
   ]
  },
  {
   "cell_type": "code",
   "execution_count": 5,
   "metadata": {},
   "outputs": [],
   "source": [
    "lam_grid = np.linspace(0, 8, 81)\n",
    "gamma1 = gamma2 = 2\n",
    "simu_time = 100\n",
    "evaluate_all  = evaluate_all_svd = evaluate_all_spca = np.repeat(0, 8)  # 8 criteria (4 for u and 4 for v)\n",
    "for i in range(simu_time):\n",
    "    \n",
    "    X = Xstar + np.random.normal(0, 0.5, Xstar.shape)  # (100, 50)\n",
    "\n",
    "    # ssvd\n",
    "    start_time_ssvd = time.time()\n",
    "    _, u, v, _, _, _ = SSVD_layer(X, lam_grid, gamma1, gamma2)\n",
    "    criteria = evaluate(u, u_true) + evaluate(v, v_true)  # list combination\n",
    "    evaluate_all = np.array([evaluate_all[i]+criteria[i] for i in range(len(criteria))])\n",
    "    time_ssvd += time.time()-start_time_ssvd\n",
    "    \n",
    "\n",
    "    # svd\n",
    "    start_time_svd = time.time()\n",
    "    u_svd, S_svd, v_svd = np.linalg.svd(X)\n",
    "    criteria_svd = evaluate(u_svd[:,0], u_true) + evaluate(v_svd[0,:], v_true)  # list combination\n",
    "    evaluate_all_svd = np.array([evaluate_all_svd[i]+criteria_svd[i] for i in range(len(criteria_svd))])\n",
    "    time_svd += time.time()-start_time_svd\n",
    "\n",
    "    # SPCA\n",
    "    start_time_spca = time.time()\n",
    "    spca = SparsePCA(n_components = 1, alpha = 2)\n",
    "    spca.fit(X)\n",
    "    v_spca = spca.components_[0]\n",
    "    spca.fit(X.T)\n",
    "    u_spca = spca.components_[0]\n",
    "    criteria_spca = evaluate(u_spca, u_true) + evaluate(v_spca, v_true)  # list combination\n",
    "    evaluate_all_spca = np.array([evaluate_all_spca[i]+criteria_spca[i] for i in range(len(criteria_spca))])\n",
    "    time_spca += time.time()-start_time_spca"
   ]
  },
  {
   "cell_type": "code",
   "execution_count": 6,
   "metadata": {},
   "outputs": [],
   "source": [
    "performance = (evaluate_all / simu_time).reshape((2,-1))\n",
    "performance_svd = (evaluate_all_svd / simu_time).reshape((2,-1))\n",
    "performance_spca = (evaluate_all_spca / simu_time).reshape((2,-1))"
   ]
  },
  {
   "cell_type": "code",
   "execution_count": 7,
   "metadata": {},
   "outputs": [],
   "source": [
    "df1 = pd.DataFrame(performance,\n",
    "                   columns=[\"Avg. # of 0s\", \"Avg. # of correctly identified 0s\", \"Avg. # of correctly identified non0s\", \"Rate of correctly identified all 0s\"],\\\n",
    "    index=[\"u_ssvd\", \"v_ssvd\"])\n",
    "\n",
    "df2 = pd.DataFrame(performance_svd,\n",
    "    columns=[\"Avg. # of 0s\", \"Avg. # of correctly identified 0s\", \"Avg. # of correctly identified non0s\", \"Rate of correctly identified all 0s\"],\\\n",
    "    index=[\"u_svd\", \"v_svd\"])\n",
    "\n",
    "df3 = pd.DataFrame(performance_spca,\n",
    "    columns=[\"Avg. # of 0s\", \"Avg. # of correctly identified 0s\", \"Avg. # of correctly identified non0s\", \"Rate of correctly identified all 0s\"],\\\n",
    "    index=[\"u_spca\", \"v_spca\"])"
   ]
  },
  {
   "cell_type": "code",
   "execution_count": 8,
   "metadata": {},
   "outputs": [
    {
     "output_type": "execute_result",
     "data": {
      "text/plain": [
       "        Avg. # of 0s  Avg. # of correctly identified 0s  \\\n",
       "u_ssvd         74.85                              74.85   \n",
       "v_ssvd         33.90                              33.90   \n",
       "u_svd           0.00                               0.00   \n",
       "v_svd           0.00                               0.00   \n",
       "u_spca         74.98                              74.98   \n",
       "v_spca         34.00                              34.00   \n",
       "\n",
       "        Avg. # of correctly identified non0s  \\\n",
       "u_ssvd                                  25.0   \n",
       "v_ssvd                                  16.0   \n",
       "u_svd                                   25.0   \n",
       "v_svd                                   16.0   \n",
       "u_spca                                  25.0   \n",
       "v_spca                                  16.0   \n",
       "\n",
       "        Rate of correctly identified all 0s  \n",
       "u_ssvd                                 0.85  \n",
       "v_ssvd                                 0.91  \n",
       "u_svd                                  0.00  \n",
       "v_svd                                  0.00  \n",
       "u_spca                                 0.98  \n",
       "v_spca                                 1.00  "
      ],
      "text/html": "<div>\n<style scoped>\n    .dataframe tbody tr th:only-of-type {\n        vertical-align: middle;\n    }\n\n    .dataframe tbody tr th {\n        vertical-align: top;\n    }\n\n    .dataframe thead th {\n        text-align: right;\n    }\n</style>\n<table border=\"1\" class=\"dataframe\">\n  <thead>\n    <tr style=\"text-align: right;\">\n      <th></th>\n      <th>Avg. # of 0s</th>\n      <th>Avg. # of correctly identified 0s</th>\n      <th>Avg. # of correctly identified non0s</th>\n      <th>Rate of correctly identified all 0s</th>\n    </tr>\n  </thead>\n  <tbody>\n    <tr>\n      <th>u_ssvd</th>\n      <td>74.85</td>\n      <td>74.85</td>\n      <td>25.0</td>\n      <td>0.85</td>\n    </tr>\n    <tr>\n      <th>v_ssvd</th>\n      <td>33.90</td>\n      <td>33.90</td>\n      <td>16.0</td>\n      <td>0.91</td>\n    </tr>\n    <tr>\n      <th>u_svd</th>\n      <td>0.00</td>\n      <td>0.00</td>\n      <td>25.0</td>\n      <td>0.00</td>\n    </tr>\n    <tr>\n      <th>v_svd</th>\n      <td>0.00</td>\n      <td>0.00</td>\n      <td>16.0</td>\n      <td>0.00</td>\n    </tr>\n    <tr>\n      <th>u_spca</th>\n      <td>74.98</td>\n      <td>74.98</td>\n      <td>25.0</td>\n      <td>0.98</td>\n    </tr>\n    <tr>\n      <th>v_spca</th>\n      <td>34.00</td>\n      <td>34.00</td>\n      <td>16.0</td>\n      <td>1.00</td>\n    </tr>\n  </tbody>\n</table>\n</div>"
     },
     "metadata": {},
     "execution_count": 8
    }
   ],
   "source": [
    "pd.concat([df1, df2,df3], sort=False)"
   ]
  },
  {
   "cell_type": "code",
   "execution_count": 9,
   "metadata": {},
   "outputs": [],
   "source": [
    "times = {'Time of SSVD' : time_ssvd,\n",
    "         'Time of SVD'  : time_svd,\n",
    "         'Time of SPCA' : time_spca}"
   ]
  },
  {
   "cell_type": "code",
   "execution_count": 10,
   "metadata": {},
   "outputs": [
    {
     "output_type": "execute_result",
     "data": {
      "text/plain": [
       "              Time(sec)\n",
       "Time of SPCA   5.600834\n",
       "Time of SSVD   1.488800\n",
       "Time of SVD    0.125581"
      ],
      "text/html": "<div>\n<style scoped>\n    .dataframe tbody tr th:only-of-type {\n        vertical-align: middle;\n    }\n\n    .dataframe tbody tr th {\n        vertical-align: top;\n    }\n\n    .dataframe thead th {\n        text-align: right;\n    }\n</style>\n<table border=\"1\" class=\"dataframe\">\n  <thead>\n    <tr style=\"text-align: right;\">\n      <th></th>\n      <th>Time(sec)</th>\n    </tr>\n  </thead>\n  <tbody>\n    <tr>\n      <th>Time of SPCA</th>\n      <td>5.600834</td>\n    </tr>\n    <tr>\n      <th>Time of SSVD</th>\n      <td>1.488800</td>\n    </tr>\n    <tr>\n      <th>Time of SVD</th>\n      <td>0.125581</td>\n    </tr>\n  </tbody>\n</table>\n</div>"
     },
     "metadata": {},
     "execution_count": 10
    }
   ],
   "source": [
    "pd.DataFrame({'Time(sec)':times})"
   ]
  },
  {
   "cell_type": "code",
   "execution_count": null,
   "metadata": {},
   "outputs": [],
   "source": []
  }
 ],
 "metadata": {
  "kernelspec": {
   "name": "python385jvsc74a57bd0888f0264475ae6160f525552a438fd5ef556769a0ca9b7cd6d350d954e07bfc9",
   "display_name": "Python 3.8.5 64-bit ('base': conda)"
  }
 },
 "nbformat": 4,
 "nbformat_minor": 1
}