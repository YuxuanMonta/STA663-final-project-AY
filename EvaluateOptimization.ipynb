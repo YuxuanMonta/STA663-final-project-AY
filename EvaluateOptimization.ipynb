{
 "metadata": {
  "language_info": {
   "codemirror_mode": {
    "name": "ipython",
    "version": 3
   },
   "file_extension": ".py",
   "mimetype": "text/x-python",
   "name": "python",
   "nbconvert_exporter": "python",
   "pygments_lexer": "ipython3",
   "version": "3.8.5"
  },
  "orig_nbformat": 2,
  "kernelspec": {
   "name": "python385jvsc74a57bd0888f0264475ae6160f525552a438fd5ef556769a0ca9b7cd6d350d954e07bfc9",
   "display_name": "Python 3.8.5 64-bit ('base': conda)"
  }
 },
 "nbformat": 4,
 "nbformat_minor": 2,
 "cells": [
  {
   "source": [
    "# Optimization of the codes\n",
    "\n",
    "In this file, we evaluate the performance of the several versions of the SSVD algorithm in the optimization procedure. "
   ],
   "cell_type": "markdown",
   "metadata": {}
  },
  {
   "cell_type": "code",
   "execution_count": 1,
   "metadata": {},
   "outputs": [],
   "source": [
    "import numpy as np \n",
    "from timeit import timeit\n",
    "import pandas as pd \n",
    "from functools import reduce"
   ]
  },
  {
   "source": [
    "Import written functions. "
   ],
   "cell_type": "markdown",
   "metadata": {}
  },
  {
   "cell_type": "code",
   "execution_count": 2,
   "metadata": {},
   "outputs": [],
   "source": [
    "from SSVDversion1 import update_uv as update_uv1\n",
    "from SSVDversion1 import SSVD_layer as SSVD_layer1\n",
    "from SSVDversion1 import SSVD as SSVD1 \n",
    "\n",
    "from SSVDversion2 import update_uv as update_uv2\n",
    "from SSVDversion2 import SSVD_layer as SSVD_layer2\n",
    "from SSVDversion2 import SSVD as SSVD2\n",
    "\n",
    "from SSVDversion3 import update_uv as update_uv3\n",
    "from SSVDversion3 import SSVD_layer as SSVD_layer3\n",
    "from SSVDversion3 import SSVD as SSVD3 \n",
    "\n",
    "from SSVDversion4 import update_uv as update_uv4\n",
    "from SSVDversion4 import SSVD_layer as SSVD_layer4\n",
    "from SSVDversion4 import SSVD as SSVD4"
   ]
  },
  {
   "cell_type": "code",
   "execution_count": 3,
   "metadata": {},
   "outputs": [],
   "source": [
    "import cython\n",
    "%load_ext cython"
   ]
  },
  {
   "cell_type": "code",
   "execution_count": 4,
   "metadata": {},
   "outputs": [],
   "source": [
    "%%cython\n",
    "\n",
    "import numpy as np \n",
    "import scipy.linalg as la\n",
    "import cython\n",
    "from cython.parallel import parallel, prange\n",
    "\n",
    "cdef extern from \"math.h\":\n",
    "    double log(double x) nogil\n",
    "    double pow(double x, double y) nogil\n",
    "    double fabs(double x) nogil\n",
    "    double sqrt(double x)\n",
    "    double isless(double x, double y) nogil\n",
    "    double fmax(double x, double y)\n",
    "    double fma(double x, double y, double z) nogil\n",
    "\n",
    "\n",
    "cdef double vector_dist_sq(double[:,:] u, double[:,:] v):\n",
    "    \"\"\"Squared Euclidean distance between two vectors. Can also compute the squared norm of a vector if set one of the input being zero vector. \"\"\"\n",
    "    cdef int i \n",
    "    cdef double s = 0 \n",
    "    for i in range(u.shape[0]):\n",
    "        s += pow(u[i,0] - v[i,0], 2)\n",
    "    return s\n",
    "\n",
    "@cython.boundscheck(False)\n",
    "@cython.wraparound(False)\n",
    "cdef matrix_multiply(double[:,:] u, double[:, :] v, double[:, :] res, double c = 1):\n",
    "    \"\"\"Matrix multiplication, equivalent to c*u@v.\"\"\"\n",
    "    cdef int i, j, k\n",
    "    cdef int m = u.shape[0], n = u.shape[1], p = v.shape[1]\n",
    "    with cython.nogil, parallel():\n",
    "        for i in prange(m):  # parallel\n",
    "            for j in prange(p):  # parallel\n",
    "                res[i,j] = 0\n",
    "                for k in range(n):  # serial\n",
    "                    res[i,j] += u[i,k] * v[k,j]\n",
    "                res[i,j] = fma(res[i,j], c, 0)\n",
    "\n",
    "@cython.boundscheck(False)\n",
    "@cython.wraparound(False)\n",
    "cdef elementwise_multiply(double[:,:] u, double[:,:] v, double[:,:] res):\n",
    "    \"\"\"Element multiplication of two matrices. \"\"\"\n",
    "    cdef int i, j\n",
    "    cdef int m = u.shape[0], n = u.shape[1]\n",
    "    with cython.nogil, parallel():\n",
    "        for i in prange(m):  # parallel\n",
    "            for j in prange(n):  # parallel\n",
    "                res[i,j] = u[i,j] * v[i,j]\n",
    "\n",
    "\n",
    "@cython.boundscheck(False)\n",
    "@cython.wraparound(False)\n",
    "cdef double[:,:] vec_outer_prod(double[:,:] u, double[:,:] v, double c = 1):\n",
    "    \"\"\"Outer product between two vectors, equivalent to c*u@v.T.\"\"\"\n",
    "    cdef int n = u.shape[0], m = v.shape[0]\n",
    "    cdef int i, j\n",
    "    cdef double[:,:] res = np.zeros((n, m))\n",
    "    with cython.nogil, parallel():\n",
    "        for i in prange(n):  # parallel\n",
    "            for j in prange(m):  # parallel\n",
    "                res[i,j] = u[i,0] * v[j,0] * c\n",
    "    return res\n",
    "\n",
    "\n",
    "@cython.boundscheck(False)\n",
    "@cython.wraparound(False)\n",
    "cdef double[:,:] get_w(double[:,:] tilde_hat, double gamma):\n",
    "    \"\"\"Get the w vector, equivalent to elementwise |tilde_hat|^(-gamma)\"\"\"\n",
    "    cdef int i, l = tilde_hat.shape[0]\n",
    "    cdef double[:,:] w = np.zeros((l, 1))\n",
    "    with cython.nogil, parallel():\n",
    "        for i in prange(l):  # parallel\n",
    "            w[i,0] = pow(fabs(tilde_hat[i,0]), -gamma)\n",
    "    return w\n",
    "\n",
    "\n",
    "\n",
    "@cython.boundscheck(False)\n",
    "@cython.wraparound(False)\n",
    "cdef double[:,:] get_part2(double[:,:] tilde_hat, double[:,:] w, double lam):\n",
    "    \"\"\"Compute the part2 in the updating formula. \"\"\"\n",
    "    cdef int i, l = tilde_hat.shape[0]\n",
    "    cdef double ele \n",
    "    cdef double[:,:] part2 = np.zeros((l,1))\n",
    "\n",
    "    with cython.nogil, parallel():\n",
    "        for i in prange(l):  # parallel\n",
    "            ele = fabs(tilde_hat[i,0])-lam*w[i,0]/2\n",
    "            if ele > 0:\n",
    "                part2[i,0] = ele \n",
    "    return part2\n",
    "cdef int is_full_shinkage(double[:,:] v):\n",
    "    \"\"\"Judge if the input vector if fully shrunk to 0. Return 1 if fully shunk, and 0 otherwise. \"\"\"\n",
    "    cdef int l = v.shape[0]\n",
    "    cdef int flag = 1\n",
    "    \n",
    "    for i in range(l):\n",
    "        if v[i,0] != 0:\n",
    "            flag = 0\n",
    "            break\n",
    "    return flag  # flag = 1 if all elements are 0, = 0 otherwise\n",
    "\n",
    "@cython.boundscheck(False)\n",
    "@cython.wraparound(False)\n",
    "cdef get_vec_new(double[:,:] tilde_vec, double[:,:] vec_new):\n",
    "    \"\"\"Get the vec_new according to tilde_vec/norm(tilde_vec). \"\"\"\n",
    "    cdef int i, l = tilde_vec.shape[0]\n",
    "    cdef double norm = sqrt(vector_dist_sq(tilde_vec, np.zeros((l, 1))))\n",
    "    with cython.nogil, parallel():\n",
    "        for i in prange(l):  # parallel\n",
    "            vec_new[i,0] = tilde_vec[i,0] / norm\n",
    "\n",
    "\n",
    "cpdef update_uv3c(double[:,:] u_old, X, gamma1, gamma2, lam_grid, double[:,:] u_new, double[:,:] v_new):\n",
    "    \"\"\"Update u and v once given the current u and v.\"\"\"\n",
    "    cdef int n = X.shape[0], d = X.shape[1], S = lam_grid.shape[0]\n",
    "    cdef int nd = n*d\n",
    "\n",
    "    cdef double[:,:] v_tilde_hat = np.zeros((d,1)), v_tilde = np.zeros((d,1))\n",
    "    cdef double[:,:] u_tilde_hat = np.zeros((n,1)), u_tilde = np.zeros((n,1))\n",
    "\n",
    "    cdef double lambda_u = 0, lambda_v = 0\n",
    "\n",
    "\n",
    "    ## Update v using current u\n",
    "\n",
    "    # ols for v, use current u\n",
    "    matrix_multiply(X.T, u_old, v_tilde_hat)  # v_tilde_hat: (d, 1), fixed ols estimate\n",
    "    SSE_v = np.sum((X - vec_outer_prod(u_old, v_tilde_hat))**2)  # scalar, SSE_v = (Y-Y_hat).T @ (Y-Y_hat)\n",
    "    sigma2_hat_v = SSE_v / (nd-d)  # scalar, fixed ols estimate\n",
    "\n",
    "    # select lambda_v\n",
    "    w2 = get_w(v_tilde_hat, gamma2)  # (d, 1)\n",
    "    dfs_v = np.sum(np.abs(v_tilde_hat) > lam_grid*w2/2, axis=0)  # (S,), df for each lambda\n",
    "    part2 = v_tilde_hat - lam_grid*w2/2; part2[part2<0] = 0\n",
    "    part1 = np.sign(v_tilde_hat)\n",
    "    v_tilde_br = part1 * part2  # (d, S), each column is v_tilde under each lambda\n",
    "    outer_prods = np.outer(u_old, v_tilde_br.T)  # (n, d*S), each chunk of size (n, d) is the outer product mat under each lambda\n",
    "    outer_prods = np.array(np.hsplit(outer_prods, S))  # (S, n, d)\n",
    "    SSEs_v = ((X-outer_prods)**2).sum(axis = (1,2))  # (S,), ||X-uv_tilde^T||_F^2=||Y-Y_hat||^2 for each lambda\n",
    "    BICs_v = SSEs_v/(nd*sigma2_hat_v) + np.log(nd)/nd*dfs_v  # (S,), BIC for each lambda\n",
    "    lambda_v = lam_grid[np.argmin(BICs_v)]\n",
    "\n",
    "    # update v\n",
    "    part1 = np.sign(v_tilde_hat)\n",
    "    part2 = get_part2(v_tilde_hat, w2, lambda_v)\n",
    "\n",
    "    if is_full_shinkage(part2) == 0:  # not full shrinkage at v\n",
    "        elementwise_multiply(part1, part2, v_tilde)  # v_tilde: (d, 1)\n",
    "        get_vec_new(v_tilde, v_new)  # v_new: (d, 1)\n",
    "        \n",
    "        ## Update u using current v\n",
    "\n",
    "        # ols for u, use current v\n",
    "        matrix_multiply(X, v_new, u_tilde_hat)  # u_tilde_hat: (n, 1), fixed ols estimate\n",
    "        SSE_u = np.sum((X.T - vec_outer_prod(v_new, u_tilde_hat))**2)\n",
    "        sigma2_hat_u = SSE_u / (nd-n)  # scalar, fixed ols estimate\n",
    "\n",
    "        # select lambda_u\n",
    "        w1 = get_w(u_tilde_hat, gamma1)  # (n, 1)\n",
    "        dfs_u = np.sum(np.abs(u_tilde_hat) > lam_grid*w1/2, axis=0)  # (S,), df for each lambda\n",
    "        part2 = u_tilde_hat - lam_grid*w1/2; part2[part2<0] = 0\n",
    "        part1 = np.sign(u_tilde_hat)\n",
    "        u_tilde_br = part1 * part2  # (n, S), each column is u_tilde under each lambda\n",
    "        outer_prods = np.outer(u_tilde_br.T, v_new)  # (n*S, d), each chunk of size (n, d) is the outer product mat under each lambda\n",
    "        outer_prods = np.array(np.vsplit(outer_prods, S))  # (S, n, d)\n",
    "        SSEs_u = ((X-outer_prods)**2).sum(axis = (1,2))  # (S,), ||X-u_tildev^T||_F^2=||Z-Z_hat||^2 for each lambda\n",
    "        BICs_u = SSEs_u/(nd*sigma2_hat_u) + np.log(nd)/nd*dfs_u  # (S,), BIC for each lambda\n",
    "        lambda_u = lam_grid[np.argmin(BICs_u)]\n",
    "\n",
    "        # update u\n",
    "        part1 = np.sign(u_tilde_hat)\n",
    "        part2 = get_part2(u_tilde_hat, w1, lambda_u)\n",
    "        if is_full_shinkage(part2) == 0:  # not full shrink at u\n",
    "            elementwise_multiply(part1, part2, u_tilde)  # u_tilde: (n, 1)\n",
    "            get_vec_new(u_tilde, u_new)  # u_new: (n, 1)\n",
    "\n",
    "    return lambda_u, lambda_v\n",
    "\n",
    "\n",
    "cpdef SSVD_layer3c(X, lam_grid, gamma1, gamma2, max_iter=5000, tol=1e-6):\n",
    "    \"\"\"Get the sparse SVD layer given the data matrix X at a SVD layer and the tuning parameters grid.\"\"\"\n",
    "    cdef int n = X.shape[0], d = X.shape[1]\n",
    "    # SVD\n",
    "    U, _, VT = la.svd(X)\n",
    "\n",
    "    # initial value\n",
    "    cdef double[:,:] u_old = U[:,0][:,None], v_old = VT[0][:,None]\n",
    "    cdef double[:,:] u_new = np.zeros((n,1)), v_new = np.zeros((d,1))\n",
    "    cdef int i  # number of iterations\n",
    "\n",
    "    for i in range(max_iter):\n",
    "        lambda_u, lambda_v = update_uv3c(u_old, X, gamma1, gamma2, lam_grid, u_new, v_new)  # update u_new, v_new\n",
    "        if isless(fmax(vector_dist_sq(u_new, u_old), vector_dist_sq(v_new, v_old)), pow(tol, 2)):  # achieve the tolerance\n",
    "            break \n",
    "        if fmax(is_full_shinkage(u_new), is_full_shinkage(v_new)):  # full shrinkage (i.e., all zeros in the vector)\n",
    "            print(\"Warning: Full shrinkage has been achieved. Iterations stops. No further decomposition. The desired number of layers may not be achieved. \")\n",
    "            break\n",
    "        u_old, v_old = u_new, v_new\n",
    "    u, v = u_new, v_new  # the final u and v at convergence \n",
    "    s = (u.T @ X @ v)[0][0]\n",
    "    n_iter = i+1\n",
    "    if n_iter == max_iter:\n",
    "        print(\"Warning: The maximum iteration has been achieved. Please consider increasing `max_iter`.\")\n",
    "    return n_iter, np.array(u), np.array(v), s, lambda_u, lambda_v \n",
    "\n",
    "\n",
    "cpdef SSVD3c(X, num_layer, lam_grid, gamma1, gamma2, max_iter=5000, tol=1e-6):\n",
    "    \"\"\"Get the SSVD given the data matrix X and the desired number of SSVD layers.\"\"\"\n",
    "    n, d = X.shape\n",
    "    n_iters = np.zeros(num_layer, dtype = int)\n",
    "    ss = np.zeros(num_layer)\n",
    "    lambda_us = np.zeros(num_layer)\n",
    "    lambda_vs = np.zeros(num_layer)\n",
    "    us = np.zeros((n, num_layer))\n",
    "    vs = np.zeros((d, num_layer))\n",
    "    # initial value\n",
    "    cdef double[:,:] res = np.zeros((n, d))\n",
    "    cdef double s = 0\n",
    "    resi_mat = X\n",
    "    u = np.zeros((n, 1)); v = np.zeros((d, 1))\n",
    "    for i in range(num_layer):\n",
    "        resi_mat = resi_mat - s * np.outer(u, v)\n",
    "        n_iter, u, v, s, lambda_u, lambda_v = SSVD_layer3c(resi_mat, lam_grid, gamma1, gamma2, max_iter, tol)\n",
    "        n_iters[i] = n_iter\n",
    "        ss[i] = s\n",
    "        lambda_us[i] = lambda_u\n",
    "        lambda_vs[i] = lambda_v \n",
    "        us[:,i] = u[:,0]\n",
    "        vs[:,i] = v[:,0]\n",
    "        if np.all(u == 0) or np.all(v == 0):  # full shrinkage (i.e., all zeros in the vector)\n",
    "            break\n",
    "    return n_iters, us, vs, ss, lambda_us, lambda_vs"
   ]
  },
  {
   "source": [
    "Generate simulation data. "
   ],
   "cell_type": "markdown",
   "metadata": {}
  },
  {
   "cell_type": "code",
   "execution_count": 5,
   "metadata": {},
   "outputs": [
    {
     "output_type": "execute_result",
     "data": {
      "text/plain": [
       "(100, 50)"
      ]
     },
     "metadata": {},
     "execution_count": 5
    }
   ],
   "source": [
    "u_tilde = [list(range(10, 2, -1)), list(np.repeat(2, 17)), list(np.repeat(0, 75))]\n",
    "u_tilde = np.array(reduce(lambda x, y: x+y, u_tilde))\n",
    "v_tilde = [[10, -10, 8, -8, 5, -5], list(np.repeat(3, 5)), list(np.repeat(-3, 5)), list(np.repeat(0, 34))]\n",
    "v_tilde = np.array(reduce(lambda x, y: x+y, v_tilde))\n",
    "\n",
    "u_true = u_tilde / np.linalg.norm(u_tilde)  # (100,)\n",
    "v_true = v_tilde / np.linalg.norm(v_tilde)  # (50,)\n",
    "s = 50\n",
    "Xstar = s * np.outer(u_true, v_true)  # (100, 50)\n",
    "\n",
    "lam_grid = np.linspace(0, 8, 81)\n",
    "gamma1 = gamma2 = 2\n",
    "\n",
    "X = Xstar + np.random.normal(0, 0.5, Xstar.shape)  # (100, 50)\n",
    "num_layer = 2\n",
    "\n",
    "\n",
    "# SVD\n",
    "U, _, VT = la.svd(X)\n",
    "V = VT.T\n",
    "# prepare vector Y and Z, which are fixed after given X\n",
    "Y = X.T.reshape((-1,1))  # (nd, 1)\n",
    "Z = X.reshape((-1,1))  # (nd, 1)\n",
    "\n",
    "# initial value\n",
    "u_old = U[:,0][:,None]\n",
    "v_old = V[:,0][:,None]\n",
    "d = v_old.shape[0]\n",
    "n = u_old.shape[0]\n",
    "\n",
    "X.shape"
   ]
  },
  {
   "source": [
    "Compare `update_uv()`"
   ],
   "cell_type": "markdown",
   "metadata": {}
  },
  {
   "cell_type": "code",
   "execution_count": 6,
   "metadata": {},
   "outputs": [
    {
     "output_type": "stream",
     "name": "stdout",
     "text": [
      "313 ms ± 7.9 ms per loop (mean ± std. dev. of 10 runs, 10 loops each)\n",
      "8.21 ms ± 307 µs per loop (mean ± std. dev. of 10 runs, 10 loops each)\n",
      "3.81 ms ± 400 µs per loop (mean ± std. dev. of 10 runs, 10 loops each)\n",
      "4.62 ms ± 203 µs per loop (mean ± std. dev. of 10 runs, 10 loops each)\n",
      "3.97 ms ± 134 µs per loop (mean ± std. dev. of 10 runs, 10 loops each)\n"
     ]
    }
   ],
   "source": [
    "u_t1 = %timeit -o -r10 -n10 update_uv1(u_old, v_old, X, Y, Z, gamma1, gamma2, lam_grid)\n",
    "u_t2 = %timeit -o -r10 -n10 update_uv2(u_old, v_old, X, gamma1, gamma2, lam_grid)\n",
    "u_t3 = %timeit -o -r10 -n10 update_uv3(u_old, v_old, X, gamma1, gamma2, lam_grid)\n",
    "u_t4 = %timeit -o -r10 -n10 update_uv4(u_old, v_old, X, gamma1, gamma2, lam_grid)\n",
    "\n",
    "v_new3c = np.zeros((d,1)); u_new3c = np.zeros((n,1))\n",
    "u_t5 = %timeit -o -r10 -n10 update_uv3c(u_old, X, gamma1, gamma2, lam_grid, u_new3c, v_new3c)"
   ]
  },
  {
   "source": [
    "Compare `SSVD_layer()`"
   ],
   "cell_type": "markdown",
   "metadata": {}
  },
  {
   "cell_type": "code",
   "execution_count": 7,
   "metadata": {},
   "outputs": [
    {
     "output_type": "stream",
     "name": "stdout",
     "text": [
      "1.27 s ± 43.6 ms per loop (mean ± std. dev. of 10 runs, 10 loops each)\n",
      "33.9 ms ± 1.92 ms per loop (mean ± std. dev. of 10 runs, 10 loops each)\n",
      "14.4 ms ± 197 µs per loop (mean ± std. dev. of 10 runs, 10 loops each)\n",
      "18.8 ms ± 434 µs per loop (mean ± std. dev. of 10 runs, 10 loops each)\n",
      "8.08 ms ± 221 µs per loop (mean ± std. dev. of 10 runs, 10 loops each)\n"
     ]
    }
   ],
   "source": [
    "sl_t1 = %timeit -o -r10 -n10 SSVD_layer1(X, lam_grid, gamma1, gamma2)\n",
    "sl_t2 = %timeit -o -r10 -n10 SSVD_layer2(X, lam_grid, gamma1, gamma2)\n",
    "sl_t3 = %timeit -o -r10 -n10 SSVD_layer3(X, lam_grid, gamma1, gamma2)\n",
    "sl_t4 = %timeit -o -r10 -n10 SSVD_layer4(X, lam_grid, gamma1, gamma2)\n",
    "sl_t5 = %timeit -o -r10 -n10 SSVD_layer3c(X, lam_grid, gamma1, gamma2)"
   ]
  },
  {
   "source": [
    "Compare `SSVD()`"
   ],
   "cell_type": "markdown",
   "metadata": {}
  },
  {
   "cell_type": "code",
   "execution_count": 8,
   "metadata": {
    "tags": []
   },
   "outputs": [
    {
     "output_type": "stream",
     "name": "stdout",
     "text": [
      "1.27 s ± 30.2 ms per loop (mean ± std. dev. of 10 runs, 10 loops each)\n",
      "35.4 ms ± 1.42 ms per loop (mean ± std. dev. of 10 runs, 10 loops each)\n",
      "16.2 ms ± 273 µs per loop (mean ± std. dev. of 10 runs, 10 loops each)\n",
      "21.9 ms ± 1.24 ms per loop (mean ± std. dev. of 10 runs, 10 loops each)\n",
      "8.86 ms ± 486 µs per loop (mean ± std. dev. of 10 runs, 10 loops each)\n"
     ]
    }
   ],
   "source": [
    "s_t1 = %timeit -o -r10 -n10 SSVD1(X, 1, lam_grid, gamma1, gamma2)\n",
    "s_t2 = %timeit -o -r10 -n10 SSVD2(X, 1, lam_grid, gamma1, gamma2)\n",
    "s_t3 = %timeit -o -r10 -n10 SSVD3(X, 1, lam_grid, gamma1, gamma2)\n",
    "s_t4 = %timeit -o -r10 -n10 SSVD4(X, 1, lam_grid, gamma1, gamma2)\n",
    "s_t5 = %timeit -o -r10 -n10 SSVD3c(X, 1, lam_grid, gamma1, gamma2)"
   ]
  },
  {
   "cell_type": "code",
   "execution_count": 9,
   "metadata": {},
   "outputs": [
    {
     "output_type": "execute_result",
     "data": {
      "text/plain": [
       "          update_uv()  SSVD_layer()   SSVD()          Description\n",
       "Version1       313.16       1271.92  1267.67                basic\n",
       "Version2         8.21         33.94    35.39    by linear algebra\n",
       "Version3         3.81         14.38    16.17      by broadcasting\n",
       "Version4         4.62         18.84    21.87  modify broadcasting\n",
       "Version5         3.97          8.08     8.86            by Cython"
      ],
      "text/html": "<div>\n<style scoped>\n    .dataframe tbody tr th:only-of-type {\n        vertical-align: middle;\n    }\n\n    .dataframe tbody tr th {\n        vertical-align: top;\n    }\n\n    .dataframe thead th {\n        text-align: right;\n    }\n</style>\n<table border=\"1\" class=\"dataframe\">\n  <thead>\n    <tr style=\"text-align: right;\">\n      <th></th>\n      <th>update_uv()</th>\n      <th>SSVD_layer()</th>\n      <th>SSVD()</th>\n      <th>Description</th>\n    </tr>\n  </thead>\n  <tbody>\n    <tr>\n      <th>Version1</th>\n      <td>313.16</td>\n      <td>1271.92</td>\n      <td>1267.67</td>\n      <td>basic</td>\n    </tr>\n    <tr>\n      <th>Version2</th>\n      <td>8.21</td>\n      <td>33.94</td>\n      <td>35.39</td>\n      <td>by linear algebra</td>\n    </tr>\n    <tr>\n      <th>Version3</th>\n      <td>3.81</td>\n      <td>14.38</td>\n      <td>16.17</td>\n      <td>by broadcasting</td>\n    </tr>\n    <tr>\n      <th>Version4</th>\n      <td>4.62</td>\n      <td>18.84</td>\n      <td>21.87</td>\n      <td>modify broadcasting</td>\n    </tr>\n    <tr>\n      <th>Version5</th>\n      <td>3.97</td>\n      <td>8.08</td>\n      <td>8.86</td>\n      <td>by Cython</td>\n    </tr>\n  </tbody>\n</table>\n</div>"
     },
     "metadata": {},
     "execution_count": 9
    }
   ],
   "source": [
    "# evaluation table\n",
    "eva = np.array([[u_t1.average, u_t2.average, u_t3.average, u_t4.average, u_t5.average],\n",
    "                [sl_t1.average, sl_t2.average, sl_t3.average, sl_t4.average, sl_t5.average],\n",
    "                [s_t1.average, s_t2.average, s_t3.average, s_t4.average, s_t5.average]]).T\n",
    "ind_name = [\"Version1\", \"Version2\", \"Version3\", \"Version4\", \"Version5\"]\n",
    "Description = [\"basic\", \"by linear algebra\", \"by broadcasting\", \"modify broadcasting\", \"by Cython\"]\n",
    "eva_tb = pd.DataFrame(np.round(eva, 5)*1000, columns=[\"update_uv()\", \"SSVD_layer()\", \"SSVD()\"], index=ind_name)\n",
    "eva_tb[\"Description\"] = Description\n",
    "eva_tb"
   ]
  },
  {
   "cell_type": "code",
   "execution_count": 10,
   "metadata": {},
   "outputs": [],
   "source": [
    "# save results\n",
    "eva_tb.to_excel(\"Speed_comparison.xlsx\")"
   ]
  },
  {
   "cell_type": "code",
   "execution_count": null,
   "metadata": {},
   "outputs": [],
   "source": []
  },
  {
   "cell_type": "code",
   "execution_count": null,
   "metadata": {},
   "outputs": [],
   "source": []
  }
 ]
}